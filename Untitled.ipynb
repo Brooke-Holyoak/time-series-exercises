{
 "cells": [
  {
   "cell_type": "code",
   "execution_count": 1,
   "id": "d53db5b5-73b5-4978-8ec8-a42dadfa43f4",
   "metadata": {},
   "outputs": [],
   "source": [
    "#imports\n",
    "\n",
    "import warnings\n",
    "warnings.filterwarnings('ignore')\n",
    "\n",
    "import pandas as pd\n",
    "import numpy as np\n",
    "\n",
    "from datetime import datetime\n",
    "from sklearn.metrics import mean_squared_error\n",
    "from math import sqrt\n",
    "\n",
    "import matplotlib.pyplot as plt\n",
    "%matplotlib inline\n",
    "from matplotlib.ticker import StrMethodFormatter\n",
    "from matplotlib.dates import DateFormatter\n",
    "\n",
    "import seaborn as sns\n",
    "from pandas.plotting import register_matplotlib_converters\n",
    "\n",
    "import statsmodels.api as sm\n",
    "from statsmodels.tsa.api import Holt\n",
    "\n",
    "import env\n",
    "import acquire"
   ]
  },
  {
   "cell_type": "code",
   "execution_count": 2,
   "id": "ee8ffe0c-2eaf-47bc-900b-1addeff18dd3",
   "metadata": {},
   "outputs": [],
   "source": [
    "df = acquire.get_London_data()"
   ]
  },
  {
   "cell_type": "code",
   "execution_count": 3,
   "id": "3ce25ac6-9485-4e2f-8d7f-7b79bb6f1348",
   "metadata": {},
   "outputs": [
    {
     "data": {
      "text/html": [
       "<div>\n",
       "<style scoped>\n",
       "    .dataframe tbody tr th:only-of-type {\n",
       "        vertical-align: middle;\n",
       "    }\n",
       "\n",
       "    .dataframe tbody tr th {\n",
       "        vertical-align: top;\n",
       "    }\n",
       "\n",
       "    .dataframe thead th {\n",
       "        text-align: right;\n",
       "    }\n",
       "</style>\n",
       "<table border=\"1\" class=\"dataframe\">\n",
       "  <thead>\n",
       "    <tr style=\"text-align: right;\">\n",
       "      <th></th>\n",
       "      <th>AverageTemperature</th>\n",
       "      <th>AverageTemperatureUncertainty</th>\n",
       "      <th>City</th>\n",
       "      <th>Country</th>\n",
       "      <th>Latitude</th>\n",
       "      <th>Longitude</th>\n",
       "    </tr>\n",
       "    <tr>\n",
       "      <th>dt</th>\n",
       "      <th></th>\n",
       "      <th></th>\n",
       "      <th></th>\n",
       "      <th></th>\n",
       "      <th></th>\n",
       "      <th></th>\n",
       "    </tr>\n",
       "  </thead>\n",
       "  <tbody>\n",
       "    <tr>\n",
       "      <th>1743-11-01</th>\n",
       "      <td>7.541</td>\n",
       "      <td>1.753</td>\n",
       "      <td>London</td>\n",
       "      <td>United Kingdom</td>\n",
       "      <td>52.24N</td>\n",
       "      <td>0.00W</td>\n",
       "    </tr>\n",
       "  </tbody>\n",
       "</table>\n",
       "</div>"
      ],
      "text/plain": [
       "            AverageTemperature  AverageTemperatureUncertainty    City  \\\n",
       "dt                                                                      \n",
       "1743-11-01               7.541                          1.753  London   \n",
       "\n",
       "                   Country Latitude Longitude  \n",
       "dt                                             \n",
       "1743-11-01  United Kingdom   52.24N     0.00W  "
      ]
     },
     "execution_count": 3,
     "metadata": {},
     "output_type": "execute_result"
    }
   ],
   "source": [
    "df.head(1)"
   ]
  },
  {
   "cell_type": "code",
   "execution_count": 4,
   "id": "0413a65a-3ea8-453b-ac7b-efee39ea5325",
   "metadata": {},
   "outputs": [],
   "source": [
    "df = acquire.prep_london_data(df)"
   ]
  },
  {
   "cell_type": "code",
   "execution_count": 5,
   "id": "42f0f9d0-82f7-4bf2-a155-23fcb6e3594c",
   "metadata": {},
   "outputs": [
    {
     "data": {
      "text/html": [
       "<div>\n",
       "<style scoped>\n",
       "    .dataframe tbody tr th:only-of-type {\n",
       "        vertical-align: middle;\n",
       "    }\n",
       "\n",
       "    .dataframe tbody tr th {\n",
       "        vertical-align: top;\n",
       "    }\n",
       "\n",
       "    .dataframe thead th {\n",
       "        text-align: right;\n",
       "    }\n",
       "</style>\n",
       "<table border=\"1\" class=\"dataframe\">\n",
       "  <thead>\n",
       "    <tr style=\"text-align: right;\">\n",
       "      <th></th>\n",
       "      <th>monthly_average_temp</th>\n",
       "      <th>possible_high_temp</th>\n",
       "      <th>possible_low_temp</th>\n",
       "    </tr>\n",
       "    <tr>\n",
       "      <th>dt</th>\n",
       "      <th></th>\n",
       "      <th></th>\n",
       "      <th></th>\n",
       "    </tr>\n",
       "  </thead>\n",
       "  <tbody>\n",
       "    <tr>\n",
       "      <th>1752-10-01</th>\n",
       "      <td>9.573</td>\n",
       "      <td>11.112</td>\n",
       "      <td>8.034</td>\n",
       "    </tr>\n",
       "    <tr>\n",
       "      <th>1752-11-01</th>\n",
       "      <td>7.282</td>\n",
       "      <td>8.648</td>\n",
       "      <td>5.916</td>\n",
       "    </tr>\n",
       "    <tr>\n",
       "      <th>1752-12-01</th>\n",
       "      <td>5.210</td>\n",
       "      <td>6.782</td>\n",
       "      <td>3.638</td>\n",
       "    </tr>\n",
       "    <tr>\n",
       "      <th>1753-01-01</th>\n",
       "      <td>0.875</td>\n",
       "      <td>8.493</td>\n",
       "      <td>-6.743</td>\n",
       "    </tr>\n",
       "    <tr>\n",
       "      <th>1753-02-01</th>\n",
       "      <td>3.743</td>\n",
       "      <td>6.928</td>\n",
       "      <td>0.558</td>\n",
       "    </tr>\n",
       "  </tbody>\n",
       "</table>\n",
       "</div>"
      ],
      "text/plain": [
       "            monthly_average_temp  possible_high_temp  possible_low_temp\n",
       "dt                                                                     \n",
       "1752-10-01                 9.573              11.112              8.034\n",
       "1752-11-01                 7.282               8.648              5.916\n",
       "1752-12-01                 5.210               6.782              3.638\n",
       "1753-01-01                 0.875               8.493             -6.743\n",
       "1753-02-01                 3.743               6.928              0.558"
      ]
     },
     "execution_count": 5,
     "metadata": {},
     "output_type": "execute_result"
    }
   ],
   "source": [
    "df.head()"
   ]
  },
  {
   "cell_type": "code",
   "execution_count": 6,
   "id": "e642cbaa-c21a-4c14-8d41-2c9cc6f3eb0d",
   "metadata": {},
   "outputs": [
    {
     "name": "stdout",
     "output_type": "stream",
     "text": [
      "<class 'pandas.core.frame.DataFrame'>\n",
      "DatetimeIndex: 3131 entries, 1752-10-01 to 2013-08-01\n",
      "Data columns (total 3 columns):\n",
      " #   Column                Non-Null Count  Dtype  \n",
      "---  ------                --------------  -----  \n",
      " 0   monthly_average_temp  3131 non-null   float64\n",
      " 1   possible_high_temp    3131 non-null   float64\n",
      " 2   possible_low_temp     3131 non-null   float64\n",
      "dtypes: float64(3)\n",
      "memory usage: 97.8 KB\n"
     ]
    }
   ],
   "source": [
    "df.info()"
   ]
  },
  {
   "cell_type": "code",
   "execution_count": null,
   "id": "29246a42-d20e-41e4-aebf-328a8b114422",
   "metadata": {},
   "outputs": [],
   "source": [
    "#Data is split in the practice notebook. \n",
    "#Transfer over and explore. \n",
    "#Think about visualizing in larger groups of time over time. \n",
    "#1 year rolling average, 5 year rolling average, 10 year rolling average.\n",
    "#Previous Cycle\n",
    "#I have a hunch those two will be beneficial in forecasting."
   ]
  },
  {
   "cell_type": "code",
   "execution_count": null,
   "id": "abbd352d-bb44-4b93-9b79-f13d9bc650f5",
   "metadata": {},
   "outputs": [],
   "source": []
  }
 ],
 "metadata": {
  "kernelspec": {
   "display_name": "Python 3",
   "language": "python",
   "name": "python3"
  },
  "language_info": {
   "codemirror_mode": {
    "name": "ipython",
    "version": 3
   },
   "file_extension": ".py",
   "mimetype": "text/x-python",
   "name": "python",
   "nbconvert_exporter": "python",
   "pygments_lexer": "ipython3",
   "version": "3.8.8"
  }
 },
 "nbformat": 4,
 "nbformat_minor": 5
}
